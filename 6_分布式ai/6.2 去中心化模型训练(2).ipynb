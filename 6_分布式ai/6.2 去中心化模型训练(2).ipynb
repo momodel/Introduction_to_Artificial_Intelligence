{
 "cells": [
  {
   "cell_type": "markdown",
   "metadata": {
    "editable": false,
    "graffitiCellId": "id_cu3wq00"
   },
   "source": [
    "## 相关的研究问题\n",
    "\n",
    "### <span class=\"motutor-highlight motutor-id_cu3wq00-id_ijsa3rk\"><i></i>联邦学习主要面临哪些挑战</span>？\n",
    "\n",
    "   - non-IID和不平衡的数据\n",
    "   - 有限的通信带宽\n",
    "   - 不可靠和有限的可用设备"
   ]
  },
  {
   "cell_type": "markdown",
   "metadata": {
    "editable": false,
    "graffitiCellId": "id_5dsirrs"
   },
   "source": [
    "### 什么是Non-IID非独立同分布数据？\n",
    "\n",
    "   <span class=\"motutor-highlight motutor-id_5dsirrs-id_8rklaw9\"><i></i>非独立同分布</span>主要有三个方面：\n",
    "\n",
    "   - **不同客户端数据分布不同**： $(x,y) \\sim \\mathcal{P}_i(x,y)\\not= \\mathcal{P}_j(x,y)$\n",
    "     - 特征分布倾斜：$\\mathcal{P}(y|x)$相同，$\\mathcal{P}(x)$不同；不同人的笔迹不同\n",
    "     - 标签分布倾斜：$\\mathcal{P}(y|x)$相同，$\\mathcal{P}(y)$不同；企鹅在只在南极、北极熊只在北极\n",
    "     - 标签相同特征不同：$\\mathcal{P}(y)$相同，$\\mathcal{P}(y|x)$不同；概念飘移；相同的数字7，南北方不同的手势\n",
    "     - 特征相同标签不同：$\\mathcal{P}(x)$相同，$\\mathcal{P}(y|x)$不同；点头表示Yes / No?\n",
    "     - 数量不平衡\n",
    "   - **数据偏移**：训练集和测试集具有不同分布\n",
    "   - **非独立**：可用节点大多在附近时区（地理位置非独立）\n",
    "\n",
    "处理Non-IID数据有什么策略？\n",
    "\n",
    "   - 改进现有的算法\n",
    "   - 创建一个全局共享的小数据集\n",
    "   - 不同客户端提供不同的模型（Non-IID变成一种好的特性）"
   ]
  },
  {
   "cell_type": "markdown",
   "metadata": {
    "editable": false,
    "graffitiCellId": "id_8zqoh24"
   },
   "source": [
    "### <span class=\"motutor-highlight motutor-id_8zqoh24-id_yi4ctlj\"><i></i>联邦学习的通信瓶颈</span>\n",
    "\n",
    "   不同的联邦学习场景通信约束有不同的特点：\n",
    "\n",
    "   - 跨设备：WiFi速度慢、设备不在线\n",
    "   - 跨孤岛：上传速度通常慢于下载速度，中心节点带宽\n",
    "\n",
    "通信瓶颈有什么解决思路？\n",
    "\n",
    "   目前解决联邦学习通信瓶颈的方法主要有通信内容压缩（减少通信量）和FPGA通信加速（降低通信延迟）两种思路"
   ]
  },
  {
   "cell_type": "markdown",
   "metadata": {
    "editable": false,
    "graffitiCellId": "id_nkpbblc"
   },
   "source": [
    "通信内容压缩有哪些分类？\n",
    "\n",
    "   根据压缩目标的不同，可以大致分为3类：\n",
    "\n",
    "   - **上传压缩**：减少从客户端到服务器通信的对象的大小，该对象用于更新全局模型；\n",
    "   - **下载压缩**：减小从服务器向客户端广播的模型的大小，客户端从该模型开始本地训练；\n",
    "   - **本地压缩**：修改整体训练算法，使本地训练过程在计算上更加高效。\n",
    "\n",
    "目前有哪些压缩方法？\n",
    "\n",
    "   - 量化方法：降低更新参数的“分辨率”，如：整数化，二值化\n",
    "   - 低秩矩阵：将通信内容结构化，低秩分解\n",
    "   - 稀疏化：只传递足够重要的信息\n",
    "   - 知识蒸馏：将大模型知识迁移到小模型"
   ]
  },
  {
   "cell_type": "markdown",
   "metadata": {
    "editable": false,
    "graffitiCellId": "id_iwtn7ai"
   },
   "source": [
    "FPGA通讯加速\n",
    "\n",
    "- CPU、GPU（通用芯片）、TPU、矿机(ASIC)、FPGA（半ASIC）\n",
    "\n",
    "为什么要用FPGA？\n",
    "\n",
    "- FPGA适合通信领域，因为通信领域需要高速的通信协议处理，另一方面通信协议随时都在修改，不适合做成专门的芯片，所以需要能够灵活改变的功能的FPGA。\n",
    "\n",
    "FPGA在联邦学习中有哪些用武之地？\n",
    "\n",
    "- 定制通讯协议并用FPGA加速（跨孤岛场景：减少中间商）\n",
    "- 加速计算\n",
    "    - 加速知识蒸馏（前推）\n",
    "    - 加速模型计算（反传）\n",
    "\n",
    "\n"
   ]
  },
  {
   "cell_type": "markdown",
   "metadata": {
    "editable": false,
    "graffitiCellId": "id_8nsqzj4"
   },
   "source": [
    "### 联邦学习的鲁棒性\n",
    "\n",
    "联邦学习可能遇到什么样的<span class=\"motutor-highlight motutor-id_8nsqzj4-id_7ikojd9\"><i></i>安全威胁</span>？\n",
    "\n",
    "联邦学习的安全威胁可能来自于客户端或者服务端，攻击的分类包括：\n",
    "\n",
    "- 向量攻击\n",
    "攻击者的攻击目标\n",
    "    - 训练集攻击：篡改用来训练的用户数据集干扰训练\n",
    "    - 模型更新攻击：篡改发送回服务器的模型更新\n",
    "    - 测试集攻击：篡改测试集扰乱视听\n",
    "- 模型观测\n",
    "攻击者能否观测到模型参数\n",
    "    - 黑箱：攻击者没有能力观测到模型参数\n",
    "    - 陈旧白箱：攻击者只能观测到一个陈旧的模型\n",
    "    - 白箱：攻击者能完全观测到模型参数\n",
    "- 串通攻击\n",
    "多个攻击者之间是否串通\n",
    "    - 无串通：攻击者无法通过串通发起攻击\n",
    "    - 单轮次串通：攻击者在当前的轮次串通并攻击全局模型在未来的更新\n",
    "    - 跨轮次串通：攻击者在之前的轮次串通并攻击全局模型在未来的更新\n",
    "- 攻击频率\n",
    "在训练期间攻击者能多久发动一次攻击\n",
    "    - 跨设备联邦学习中可能进行一次攻击\n",
    "    - 跨孤岛联邦学习中可以进行多次攻击\n",
    "- 攻击能力\n",
    "攻击者是否能在攻击过程中修改参数\n",
    "    - 静态：攻击者必须在攻击之前确定攻击参数且无法在发起攻击后更改\n",
    "    - 动态：攻击者可以在训练过程中任意时刻任意攻击\n",
    "    \n",
    "联邦学习的鲁棒性研究未来将成为热点！"
   ]
  },
  {
   "cell_type": "markdown",
   "metadata": {
    "editable": false,
    "graffitiCellId": "id_rgidmm3"
   },
   "source": [
    "### 其他\n"
   ]
  },
  {
   "cell_type": "markdown",
   "metadata": {
    "editable": false,
    "graffitiCellId": "id_hvj1kdi"
   },
   "source": [
    "联邦学习有什么数据集？\n",
    "\n",
    "   + EMNIST数据集由671,585个数字图像和大小写英文字符（62个类）组成。 联邦版本将数据集拆分为3,400个不平衡客户端，这些客户端由数字/字符的原始编写者索引。 非IID分布来自每个人独特的写作风格。\n",
    "   + Stackoverflow数据集由来自Stack Overflow的问答组成，并带有时间戳，分数等元数据。训练数据集拥有342,477多个唯一用户和135,818,730个示例。请注意，时间戳信息可能有助于模拟传入数据的模式。\n",
    "   + Shakespeare是从The Complete Works of William Shakespeare获得的语言建模数据集。 它由715个字符组成，其连续行是客户端数据集中的示例。训练集有16,068个示例，测试集有2,356个示例。\n",
    "   + Leafproject 提供了对EMNIST和Shakespeare的预处理，它还提供了sentiment140和celebA数据集的联邦版本。这些数据集具有足够的客户端，可以用于模拟跨设备FL场景，但是对于规模特别重要的问题，它们可能太小。在这方面，Stackoverflow提供了跨设备FL问题的最现实示例。 \n",
    "   + NICO数据集由清华大学崔鹏老师课题组制作的非IID分布的图片分类数据集。该数据及包含了10种动物和9种交通工具，一共25000张图片。其NonIID是通过改变图片的不同场景，更符合真实的noniid情况。"
   ]
  }
 ],
 "metadata": {
  "graffiti": {
   "firstAuthorId": "dev",
   "id": "id_e69fluj",
   "language": "EN"
  },
  "kernelspec": {
   "display_name": "Python 3 (ipykernel)",
   "language": "python",
   "name": "python3"
  },
  "language_info": {
   "codemirror_mode": {
    "name": "ipython",
    "version": 3
   },
   "file_extension": ".py",
   "mimetype": "text/x-python",
   "name": "python",
   "nbconvert_exporter": "python",
   "pygments_lexer": "ipython3",
   "version": "3.7.5"
  }
 },
 "nbformat": 4,
 "nbformat_minor": 4
}
