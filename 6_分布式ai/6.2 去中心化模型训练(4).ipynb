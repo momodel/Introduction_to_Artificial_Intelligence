{
 "cells": [
  {
   "cell_type": "markdown",
   "metadata": {
    "deletable": false,
    "editable": false,
    "graffitiCellId": "id_47whzyc"
   },
   "source": [
    "# 联邦学习应用案例\n",
    "## 1 <span class=\"motutor-highlight motutor-id_47whzyc-id_0zyh8j7\"><i></i>移动手机-键盘预测</span>\n",
    "联邦学习能够在不暴露数据的情况下进行联合学习，对隐私数据起到了保护作用。目前已成功应用的案例有谷歌输入法。\n"
   ]
  },
  {
   "cell_type": "markdown",
   "metadata": {
    "deletable": false,
    "editable": false,
    "graffitiCellId": "id_uv5u9vp",
    "slideshow": {
     "slide_type": "fragment"
    }
   },
   "source": [
    "<img src=\"https://imgbed.momodel.cn/gboard_1.png\" width=500 />"
   ]
  },
  {
   "cell_type": "markdown",
   "metadata": {
    "deletable": false,
    "editable": false,
    "graffitiCellId": "id_e7tsh7o",
    "slideshow": {
     "slide_type": "fragment"
    }
   },
   "source": [
    "每个手机接受云端分发的初始模型，用本地的数据进行训练，之后把更新的模型传回云端，云端对来自各个手机端的数据进行聚合，形成新的模型再下发，重复这一过程，达到提高预测下个词语的准确率的目的。"
   ]
  },
  {
   "cell_type": "markdown",
   "metadata": {
    "deletable": false,
    "editable": false,
    "graffitiCellId": "id_ecx3d4n",
    "slideshow": {
     "slide_type": "skip"
    }
   },
   "source": [
    "<img src=\"https://imgbed.momodel.cn/gboard_2.png\" width=500 />"
   ]
  },
  {
   "cell_type": "markdown",
   "metadata": {
    "deletable": false,
    "editable": false,
    "graffitiCellId": "id_05vyeok"
   },
   "source": [
    "## 2 智能家居"
   ]
  },
  {
   "cell_type": "markdown",
   "metadata": {
    "deletable": false,
    "editable": false,
    "graffitiCellId": "id_hyv0r79",
    "slideshow": {
     "slide_type": "fragment"
    }
   },
   "source": [
    "**<span class=\"motutor-highlight motutor-id_hyv0r79-id_846m06p\"><i></i>联邦学习适用场景</span>**\n",
    "- 训练数据包含隐私敏感\n",
    "- 训练数据太大而无法集中收集\n",
    "\n",
    "**对传感器数据的收集上传训练很容易泄露用户隐私，且需要对大量用户的家居数据收集训练，联邦学习刚好符合智能家居系统的需求**。\n",
    "\n"
   ]
  },
  {
   "cell_type": "markdown",
   "metadata": {
    "deletable": false,
    "editable": false,
    "graffitiCellId": "id_v6rwx4i"
   },
   "source": [
    "### 智能空调系统\n",
    "\n",
    "智能空调是目前研究较多且功能完善较好的家居产品：智能空调是家居产品中智能化技术应用最深入的，但仍处于半成熟阶段。智能化技术特性集中表现为自学习功能、自适应功能、自感知功能、自决策功能、自体检功能、交互功能等功能。智能空调的语音模块就是基于神经网络算法和智能语音算法，该模块能够识别语音指令，完成开关机等功能，基本实现了智能人机交互功能，所以为实现上述智能化技术需要不断学习用户的使用习惯，更新决策系统。强化学习（Reinforcement learning）是机器学习的一种范式和方法，用来描述和解决agent在与环境交互过程中通过学习策略实现收益最大化或达到特定目标的问题。空调系统与强化学习相结合，可以通过试错法学习用户使用空调的习惯，从而根据用户是否在家，根据室内环境温度自动控制空调的开关时间。\n",
    "\n",
    "<img src=\"https://imgbed.momodel.cn/smartAir.png\" width=500 />"
   ]
  },
  {
   "cell_type": "markdown",
   "metadata": {
    "deletable": false,
    "editable": false,
    "graffitiCellId": "id_5pgr8qx"
   },
   "source": [
    "\n",
    "### 结合联邦学习的智能空调- FedAVg\n",
    "\n",
    "FedAvg是联邦学习的模型聚合方之一，使用该框架能够实现对不同节点的模型聚合更新。首先，利用传感器实时采集室内温度、空气湿度、功耗等数据，并进行存储。然后，利用DQN进行离线培训，不断提高空调的决策能力，使其开关温度设定等操作越来越贴近用户的使用习惯。然后将DQN中的网络参数上传到中央服务器，计算平均值。计算结果用于更新本地模型的评估网络，并根据存储的数据继续训练。设置了三个节点进行联合学习，结果如下：\n",
    "\n",
    "<img src=\"https://imgbed.momodel.cn/FedAvg_model_4.png\" width=750 />"
   ]
  },
  {
   "cell_type": "markdown",
   "metadata": {
    "deletable": false,
    "editable": false,
    "graffitiCellId": "id_k0dmozg"
   },
   "source": [
    "### DLG\n",
    "麻省理工学院的研究表明，攻击者仍然可以通过模型参数或模型梯度获取模型的原始数据，提出了深度梯度泄漏（DLG）算法，其核心是通过匹配虚拟数据和真实数据之间的梯度来恢复真实数据。将该算法应用到智能空调模型中，我们发现通过上传模型参数可以获得训练集的原始数据，实验结果如图4所示，因此用户的隐私信息仍然会受到攻击。FedAvg需要将网络的参数上传到服务器上，因此用户的隐私信息仍然会受到攻击。\n",
    "\n",
    "<img src=\"https://imgbed.momodel.cn/DLG.png\" width=750 />\n"
   ]
  },
  {
   "cell_type": "markdown",
   "metadata": {
    "deletable": false,
    "editable": false,
    "graffitiCellId": "id_cyjjjza"
   },
   "source": [
    "## FedMD\n",
    "FedMD将知识蒸馏与迁移学习相结合。与Fedavg相比，FedMD每次只需将模型的最终训练结果上传到中央服务器，进一步减少了网络数据传输量，且用户隐私信息无法通过梯度攻击泄露。每个代理不仅拥有自己的私有数据，且能根据需要设计网络结构，即所有本地模型可以异构。\n",
    "\n",
    "为了对比FedAvg，采用两种模式进行训练，第一种使用两个相同的节点，第二种使用两个不同的节点。将训练后的eval_net输出上传到中央服务器进行总平均计算，然后传输到每个本地模型进行蒸馏更新。\n",
    "网络结构相同：\n",
    "\n",
    "<img src=\"https://imgbed.momodel.cn/FedMD_model_13.png\" width=750 />\n"
   ]
  },
  {
   "cell_type": "markdown",
   "metadata": {
    "deletable": false,
    "editable": false,
    "graffitiCellId": "id_squxb0z"
   },
   "source": [
    "网络结构不同："
   ]
  },
  {
   "cell_type": "markdown",
   "metadata": {
    "graffitiCellId": "id_stjloi5"
   },
   "source": [
    "<img src=\"https://imgbed.momodel.cn/FedMD_model_23.png\" width=750 />\n"
   ]
  },
  {
   "cell_type": "markdown",
   "metadata": {
    "deletable": false,
    "editable": false,
    "graffitiCellId": "id_onr8sof"
   },
   "source": [
    "## 3. <span class=\"motutor-highlight motutor-id_onr8sof-id_c0fceo4\"><i></i>金融应用</span>\n",
    "\n",
    "<img src=\"https://imgbed.momodel.cn/lanxiang.png\" width=750 />"
   ]
  },
  {
   "cell_type": "markdown",
   "metadata": {
    "deletable": false,
    "editable": false,
    "graffitiCellId": "id_rp7frxm"
   },
   "source": [
    "## 4.<span class=\"motutor-highlight motutor-id_rp7frxm-id_6ftc49c\"><i></i>医疗</span>\n",
    "<img src=\"https://imgbed.momodel.cn/FL_medi.png\" width=750 />"
   ]
  },
  {
   "cell_type": "markdown",
   "metadata": {
    "deletable": false,
    "editable": false,
    "graffitiCellId": "id_o36tqvc"
   },
   "source": [
    "## 5.<span class=\"motutor-highlight motutor-id_o36tqvc-id_opz5sus\"><i></i>其他</span>\n",
    "- 城市管理和安防（海康）\n",
    "  * 垮城市交通异常识别\n",
    "  * 隐私保护下的安防检查\n",
    "- 信用评估\n",
    "   * 多银行分享信用评估模型\n",
    "   * 多头贷检测\n",
    "- 交通-网约车\n"
   ]
  },
  {
   "cell_type": "markdown",
   "metadata": {
    "deletable": false,
    "editable": false,
    "graffitiCellId": "id_lfs3xe0"
   },
   "source": [
    "<img src=\"https://imgbed.momodel.cn/FL_drone.png\" width=750 />"
   ]
  },
  {
   "cell_type": "markdown",
   "metadata": {
    "deletable": false,
    "editable": false,
    "graffitiCellId": "id_btkscxj"
   },
   "source": [
    "<img src=\"https://imgbed.momodel.cn/FL_earth.png\" width=750 />"
   ]
  }
 ],
 "metadata": {
  "graffiti": {
   "firstAuthorId": "dev",
   "id": "id_5uhzcpq",
   "language": "EN"
  },
  "kernelspec": {
   "display_name": "Python 3 (ipykernel)",
   "language": "python",
   "name": "python3"
  },
  "language_info": {
   "codemirror_mode": {
    "name": "ipython",
    "version": 3
   },
   "file_extension": ".py",
   "mimetype": "text/x-python",
   "name": "python",
   "nbconvert_exporter": "python",
   "pygments_lexer": "ipython3",
   "version": "3.7.5"
  }
 },
 "nbformat": 4,
 "nbformat_minor": 4
}
