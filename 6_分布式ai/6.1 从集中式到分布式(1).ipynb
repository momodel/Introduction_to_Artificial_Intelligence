{
 "cells": [
  {
   "cell_type": "markdown",
   "metadata": {
    "deletable": false,
    "editable": false,
    "graffitiCellId": "id_u0c94zo"
   },
   "source": [
    "# 集中式建模的问题\n",
    "\n",
    "## <span class=\"motutor-highlight motutor-id_u0c94zo-id_naygz82\"><i></i>数据的分散性</span>\n",
    "\n",
    "<img src=\"https://imgbed.momodel.cn/DAI_issue1.png\" width=500 />"
   ]
  },
  {
   "cell_type": "markdown",
   "metadata": {
    "deletable": false,
    "editable": false,
    "graffitiCellId": "id_l5mrz1i"
   },
   "source": [
    "## <span class=\"motutor-highlight motutor-id_l5mrz1i-id_f4ohbe7\"><i></i>集中式建模</span>\n",
    "<img src=\"https://imgbed.momodel.cn/DAI_issue2.png\" width=500 />"
   ]
  },
  {
   "cell_type": "markdown",
   "metadata": {
    "deletable": false,
    "editable": false,
    "graffitiCellId": "id_5s2y8pv"
   },
   "source": [
    "## <span class=\"motutor-highlight motutor-id_5s2y8pv-id_3tur2gt\"><i></i>集中式建模的问题</span>\n",
    "<img src=\"https://imgbed.momodel.cn/DAI_issue3.png\" width=500 />"
   ]
  },
  {
   "cell_type": "markdown",
   "metadata": {
    "deletable": false,
    "editable": false,
    "graffitiCellId": "id_o6xha0m"
   },
   "source": [
    "# <span class=\"motutor-highlight motutor-id_o6xha0m-id_d6737gr\"><i></i>分布式机器学习</span>\n",
    "1. 去中心化模型训练\n",
    "2. 模型能力汇聚\n",
    "3. 数据定价\n",
    "\n",
    "<img src=\"https://imgbed.momodel.cn/DAI_achi.png\" width=500 />"
   ]
  }
 ],
 "metadata": {
  "graffiti": {
   "firstAuthorId": "dev",
   "id": "id_2jtuat5",
   "language": "EN"
  },
  "kernelspec": {
   "display_name": "Python 3 (ipykernel)",
   "language": "python",
   "name": "python3"
  },
  "language_info": {
   "codemirror_mode": {
    "name": "ipython",
    "version": 3
   },
   "file_extension": ".py",
   "mimetype": "text/x-python",
   "name": "python",
   "nbconvert_exporter": "python",
   "pygments_lexer": "ipython3",
   "version": "3.7.5"
  }
 },
 "nbformat": 4,
 "nbformat_minor": 4
}
