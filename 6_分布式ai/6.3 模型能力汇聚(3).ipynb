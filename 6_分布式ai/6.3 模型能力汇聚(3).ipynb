{
 "cells": [
  {
   "cell_type": "markdown",
   "metadata": {
    "deletable": false,
    "editable": false,
    "graffitiCellId": "id_azddgf0"
   },
   "source": [
    "知识蒸馏\n",
    "===\n",
    "\n",
    "\n",
    "## <span class=\"motutor-highlight motutor-id_azddgf0-id_u2alqy0\"><i></i>什么是知识蒸馏？</span>\n",
    "初衷是模型压缩：将模型的**训练**和**使用**环节分开\n",
    "\n",
    "实现更小的存储+更快速的推理，方便模型部署在终端设备上"
   ]
  },
  {
   "cell_type": "markdown",
   "metadata": {
    "deletable": false,
    "editable": false,
    "graffitiCellId": "id_hga84on"
   },
   "source": [
    "## 知识蒸馏的目标？\n",
    "将预训练过的大模型上的知识迁移给小模型但只有很少的性能下降(提升学生模型的性能)\n",
    "比喻：数据就是课本知识，老师将自己从课本学到的知识，作为辅助传递给没有学过知识的学生。"
   ]
  },
  {
   "cell_type": "markdown",
   "metadata": {
    "deletable": false,
    "editable": false,
    "graffitiCellId": "id_wsx1jw0"
   },
   "source": [
    "- 硬标签\n",
    "ground truth (one-hot)\n",
    "- 软标签\n",
    "教师模型的logits输出\n",
    "\n",
    "\n",
    "我们可以先训练好一个teacher网络，然后将teacher的网络的输出结果 $q$ 作为student网络的目标，训练student网络，使得student网络的结果 $p$ 接近 $q$ ，因此，我们可以将损失函数写成  \n",
    "\n",
    "$$\n",
    "Loss=CE(y,p)+\\alpha KL(q,p)\n",
    "$$\n",
    "\n",
    "这里CE是交叉熵（Cross Entropy），KL是KL散度(Kullback-Leibler)，y是真实标签的onehot编码，q是teacher网络的输出结果，p是student网络的输出结果。但是，直接使用teacher网络的softmax的输出结果  ，可能不大合适。因此，一个网络训练好之后，对于正确的答案会有一个很高的置信度。因此，文章提出了softmax-T，公式如下所示： \n",
    "\n",
    "$$\n",
    "q_i=\\frac{exp(z_i/T)}{\\sum_j exp(z_j/T)}\n",
    "$$\n",
    "\n",
    "这里 $q_i$ 是student网络学习的对象（soft targets），$z_i$ 是神经网络softmax前的输出logit。如果将T取1，这个公式就是softmax，根据logit输出各个类别的概率。如果T接近于0，则最大的值会越近1，其它值会接近0，近似于onehot编码。如果T越大，则输出的结果的分布越平缓，相当于平滑的一个作用，起到保留相似信息的作用。如果T等于无穷，就是一个均匀分布。"
   ]
  },
  {
   "cell_type": "markdown",
   "metadata": {
    "deletable": false,
    "editable": false,
    "graffitiCellId": "id_w2x2gru"
   },
   "source": [
    "## 为什么知识蒸馏有效？\n",
    "暗知识（Dark Knowledge）\n",
    "\n",
    "<img src=\"https://imgbed.momodel.cn/dk.png\" width=50%>\n",
    "\n",
    "更好的知识源（由老师经过归纳和总结）"
   ]
  },
  {
   "cell_type": "markdown",
   "metadata": {
    "deletable": false,
    "editable": false,
    "graffitiCellId": "id_wc5p2c0"
   },
   "source": [
    "<img src=\"https://imgbed.momodel.cn/dkd.png\" width=750 />"
   ]
  }
 ],
 "metadata": {
  "graffiti": {
   "firstAuthorId": "dev",
   "id": "id_jcj93za",
   "language": "EN"
  },
  "kernelspec": {
   "display_name": "Python 3 (ipykernel)",
   "language": "python",
   "name": "python3"
  },
  "language_info": {
   "codemirror_mode": {
    "name": "ipython",
    "version": 3
   },
   "file_extension": ".py",
   "mimetype": "text/x-python",
   "name": "python",
   "nbconvert_exporter": "python",
   "pygments_lexer": "ipython3",
   "version": "3.7.5"
  }
 },
 "nbformat": 4,
 "nbformat_minor": 4
}
