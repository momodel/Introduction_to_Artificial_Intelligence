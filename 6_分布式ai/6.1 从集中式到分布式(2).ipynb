{
 "cells": [
  {
   "cell_type": "markdown",
   "metadata": {
    "deletable": false,
    "editable": false,
    "graffitiCellId": "id_q5bdn4l"
   },
   "source": [
    "# 从集中式到分布式\n",
    "\n",
    "## <span class=\"motutor-highlight motutor-id_q5bdn4l-id_yc2o92t\"><i></i>联邦学习基础</span>\n",
    "**初衷：隐私保护 - 在不暴露数据的情况下分析和学习多个数据拥有者的数据**\n",
    "\n",
    "Google Andriod 输入预测\n",
    "\n",
    "<img src=\"https://imgbed.momodel.cn/FL_google.png\" width=500 />\n",
    "\n",
    "> McMahan H B, Moore E, Ramage D, et al. Communication-efficient learning of deep networks from decentralized data[J]. arXiv preprint arXiv:1602.05629, 2016.\n"
   ]
  },
  {
   "cell_type": "markdown",
   "metadata": {
    "deletable": false,
    "editable": false,
    "graffitiCellId": "id_lidpcmg"
   },
   "source": [
    "## <span class=\"motutor-highlight motutor-id_lidpcmg-id_11u8fap\"><i></i>传统联邦学习的限制</span>\n",
    "\n",
    "<img src=\"https://imgbed.momodel.cn/FL_issues.png\" width=500 />\n"
   ]
  },
  {
   "cell_type": "markdown",
   "metadata": {
    "deletable": false,
    "editable": false,
    "graffitiCellId": "id_m3wexqo"
   },
   "source": [
    "## <span class=\"motutor-highlight motutor-id_m3wexqo-id_ghz6zsp\"><i></i>去中心化</span>\n",
    "* 中心节点的数据保护和可信性\n",
    "* 中心节点的通讯压力\n",
    "* 中心节点的计算压力\n",
    "\n",
    "去中心化 --> 区块链\n"
   ]
  },
  {
   "cell_type": "markdown",
   "metadata": {
    "deletable": false,
    "editable": false,
    "graffitiCellId": "id_8z36b92"
   },
   "source": [
    "## <span class=\"motutor-highlight motutor-id_8z36b92-id_92gn79h\"><i></i>应用和案例</span>\n",
    "* 医疗\n",
    "* 金融\n",
    "* 智能家居\n",
    "* ..."
   ]
  }
 ],
 "metadata": {
  "graffiti": {
   "firstAuthorId": "dev",
   "id": "id_x9b4noc",
   "language": "EN"
  },
  "kernelspec": {
   "display_name": "Python 3 (ipykernel)",
   "language": "python",
   "name": "python3"
  },
  "language_info": {
   "codemirror_mode": {
    "name": "ipython",
    "version": 3
   },
   "file_extension": ".py",
   "mimetype": "text/x-python",
   "name": "python",
   "nbconvert_exporter": "python",
   "pygments_lexer": "ipython3",
   "version": "3.7.5"
  }
 },
 "nbformat": 4,
 "nbformat_minor": 4
}
