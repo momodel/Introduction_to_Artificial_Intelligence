{
 "cells": [
  {
   "cell_type": "markdown",
   "metadata": {
    "deletable": false,
    "editable": false,
    "graffitiCellId": "id_uji0naq"
   },
   "source": [
    "# <span class=\"motutor-highlight motutor-id_uji0naq-id_7t9buvc\"><i></i>模型能力聚合</span>\n",
    "\n",
    "<img src=\"https://imgbed.momodel.cn/flagg.png\" width=750 />\n",
    "\n",
    "**<span class=\"motutor-highlight motutor-id_uji0naq-id_44svr3r\"><i></i>FedAvg 的缺陷</span>**\n"
   ]
  },
  {
   "cell_type": "markdown",
   "metadata": {
    "deletable": false,
    "editable": false,
    "graffitiCellId": "id_b4h610u"
   },
   "source": [
    "<img src=\"https://imgbed.momodel.cn/crowd.png\" width=750 />"
   ]
  },
  {
   "cell_type": "markdown",
   "metadata": {
    "deletable": false,
    "editable": false,
    "graffitiCellId": "id_h504h8k"
   },
   "source": [
    "- FedMD: Heterogenous federated learning via model distillation\n",
    "\n",
    "- FedMA: Federated Learning with Matched Averaging\n",
    "\n",
    "- FedProx: Federated Optimization in Heterogeneous Networks\n",
    "\n",
    "- FML: Federated Mutual Learning\n"
   ]
  },
  {
   "cell_type": "markdown",
   "metadata": {
    "deletable": false,
    "editable": false,
    "graffitiCellId": "id_05esjwn"
   },
   "source": [
    "1. Non-IID数据\n",
    "2. 异构模型生成\n",
    "3. 蒸馏聚合\n",
    "4. 其他方法：域自适应，对比学习，元学习\n",
    "5. 聚合网络"
   ]
  }
 ],
 "metadata": {
  "graffiti": {
   "firstAuthorId": "dev",
   "id": "id_pdl0k4s",
   "language": "EN"
  },
  "kernelspec": {
   "display_name": "Python 3 (ipykernel)",
   "language": "python",
   "name": "python3"
  },
  "language_info": {
   "codemirror_mode": {
    "name": "ipython",
    "version": 3
   },
   "file_extension": ".py",
   "mimetype": "text/x-python",
   "name": "python",
   "nbconvert_exporter": "python",
   "pygments_lexer": "ipython3",
   "version": "3.7.5"
  },
  "vscode": {
   "interpreter": {
    "hash": "ad2bdc8ecc057115af97d19610ffacc2b4e99fae6737bb82f5d7fb13d2f2c186"
   }
  }
 },
 "nbformat": 4,
 "nbformat_minor": 4
}
