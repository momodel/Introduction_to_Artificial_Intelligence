{
 "cells": [
  {
   "cell_type": "markdown",
   "metadata": {
    "deletable": false,
    "editable": false,
    "graffitiCellId": "id_v1f289t"
   },
   "source": [
    "## 传统数据定价方法"
   ]
  },
  {
   "cell_type": "markdown",
   "metadata": {
    "deletable": false,
    "editable": false,
    "graffitiCellId": "id_kcrhd3a"
   },
   "source": [
    "<span class=\"motutor-highlight motutor-id_kcrhd3a-id_dlfxq3z\"><i></i>数据资产不完全符合会计准则中对于“资产”及“无形资产”的定义。</span>"
   ]
  },
  {
   "cell_type": "markdown",
   "metadata": {
    "deletable": false,
    "editable": false,
    "graffitiCellId": "id_tgyaci8"
   },
   "source": [
    "### 直接定价\n",
    "鉴于数据价值的关键特征，数据的绝对估值比较难，没有公认方法。\n",
    "\n",
    "第一，**成本法**，也就是将收集、存储和分析数据的成本作为数据估值基准。这些成本有软件和硬件方面的，也有知识产权和人力资源方面的，还有因安全事件、敏感信息丢失或名誉损失而造成的或有成本。数据收集和分析一般具有高固定成本、低边际成本特征，从而有规模效应。成本法尽管便于实施，但很难考虑同样数据对不同人、在不同时间点以及与其他数据组合时的价值差异。另外，德勤和阿里研究院（2019）指出，一些数据为企业生产经营的附加产物，获取成本通常难以从业务中划分出来而难以可靠计量。显然，数据价值不一定高于成本，说明不是所有数据都值得收集、存储和分析。\n"
   ]
  },
  {
   "cell_type": "markdown",
   "metadata": {
    "deletable": false,
    "editable": false,
    "graffitiCellId": "id_6hqdqnv"
   },
   "source": [
    "\n",
    "第二，**收入法**，也就是评估数据的社会和经济影响，预测由此产生的未来现金流，再将未来现金流折现到当前。收入法在逻辑上类似公司估值中的折现现金流法，能考虑数据价值的三个关键特征，在理论上比较完善，但实施中则面临很多障碍。一是对数据的社会和经济影响建模难度很大。二是数据的期权价值如何评估。实物期权估值法是一个可选方法，但并不完美。"
   ]
  },
  {
   "cell_type": "markdown",
   "metadata": {
    "deletable": false,
    "editable": false,
    "graffitiCellId": "id_u4403wr"
   },
   "source": [
    "第三，**市场法**，也就是以数据的市场价格为基准，评估不在市场上的数据的价值。市场法类似股票市场的市盈率和市净率估值方法。市场法的不足在于，很多数据是非排他性的或非竞争性的，很难参与市场交易。目前，数据要素市场有一些尝试，但市场厚度和流动性都不够，价格发现功能不健全。另外，一些公司兼并收购价格着包含着对数据的估值，但不易分离出来。"
   ]
  },
  {
   "cell_type": "markdown",
   "metadata": {
    "deletable": false,
    "editable": false,
    "graffitiCellId": "id_7ct98ry"
   },
   "source": [
    "第四，**问卷测试法**，这个方法主要针对个人数据，通过问卷测试个人愿意收多少钱以出让自己的数据，或愿意花多少钱保护自己的数据，从而评估个人数据的价值。这个方法应用面非常窄，实施成本较高。"
   ]
  },
  {
   "cell_type": "markdown",
   "metadata": {
    "deletable": false,
    "editable": false,
    "graffitiCellId": "id_2dluq1x"
   },
   "source": [
    "### 相对估值\n",
    "\n",
    "数据相对估值目标是，给定一组数据以及一个共同的任务，评估每组数据对完成该任务的贡献。与绝对估值相比，相对估值要简单一些，特别针对定量的数据分析任务。\n",
    "\n",
    "在数据相对估值中，常见数据分组方法包括：一是变量/字段一样，但属于不同的观察样本；二是同样的观察样本，但变量/字段不同。对常见预测性任务和描述性任务，统计学和数据科学建立了量化评估指标。比如，对预测任务，需做样本外检验，评估预测误差。在预测变量是离散型时，常用准确率、错误率以及操作特征（Receiver Operating Characteristic，ROC）曲线下方面积等指标。在预测变量是连续型时，常用标准误差。对描述任务，需用样本数据评估模型拟合效果，线性模型一般用R平方，非线性模型一般用似然函数（需对干扰项分布做出假设）。"
   ]
  },
  {
   "cell_type": "markdown",
   "metadata": {
    "deletable": false,
    "editable": false,
    "graffitiCellId": "id_4b1pokx"
   },
   "source": [
    "使用Shapley值进行数据相对估值遵循以下步骤。第一步：定义数据集合及其元素。第二步：定义拟完成的任务。第三步：选择完成任务所使用的模型及评估指标。第四步：对数据集合中元素形成的每一个数据子集（〡N〡个元素，意味着2〡N〡个可能的数据子集），运行模型并获得评估结果。第五步：根据Shapley值计算每个元素对完成任务的贡献。此方法的主要不足是，随着数据集合的元素数量上升，计算量将指数上升。主要优点是符合直觉，容易计算，而且源自经济学的长期研究。Jia et al. (2019)讨论了如何优化使用Shapley值进行数据相对估值的计算过程。"
   ]
  },
  {
   "cell_type": "markdown",
   "metadata": {
    "deletable": false,
    "editable": false,
    "graffitiCellId": "id_adclsjd"
   },
   "source": [
    "数据相对估值说明，同一数据在用于不同任务，使用不同分析方法，或与不同数据组合时，体现出的价值是不同的。特别是，偏离数据集合“主流”的数据，在相对估值上可能比靠近数据集合“主流”的数据高，这显示了“异常值”（Outlier）的价值。"
   ]
  },
  {
   "cell_type": "markdown",
   "metadata": {
    "deletable": false,
    "editable": false,
    "graffitiCellId": "id_kbeo2oz"
   },
   "source": [
    "参考资料：\n",
    "1. 剑桥大学研究报告《数据的价值》：Bennett Institute for Public Policy (BIPP), 2020, The Value of Data, https://www.bennettinstitute.cam.ac.uk/research/research-projects/valuing-data/\n",
    "2. 德勤和阿里研究院，2019，《数据资产化之路——数据资产的估值与行业实践》\n"
   ]
  }
 ],
 "metadata": {
  "graffiti": {
   "firstAuthorId": "dev",
   "id": "id_39dnp1y",
   "language": "EN"
  },
  "kernelspec": {
   "display_name": "Python 3 (ipykernel)",
   "language": "python",
   "name": "python3"
  },
  "language_info": {
   "codemirror_mode": {
    "name": "ipython",
    "version": 3
   },
   "file_extension": ".py",
   "mimetype": "text/x-python",
   "name": "python",
   "nbconvert_exporter": "python",
   "pygments_lexer": "ipython3",
   "version": "3.7.5"
  }
 },
 "nbformat": 4,
 "nbformat_minor": 4
}
