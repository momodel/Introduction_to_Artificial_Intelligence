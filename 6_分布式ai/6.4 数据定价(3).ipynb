{
 "cells": [
  {
   "cell_type": "markdown",
   "metadata": {
    "deletable": false,
    "editable": false,
    "graffitiCellId": "id_t6eqq6y"
   },
   "source": [
    "## <span class=\"motutor-highlight motutor-id_t6eqq6y-id_39w5cuq\"><i></i>分布式建模和SV定价</span>"
   ]
  },
  {
   "cell_type": "markdown",
   "metadata": {
    "deletable": false,
    "editable": false,
    "graffitiCellId": "id_w5ql1n4"
   },
   "source": [
    "<img src=\"https://imgbed.momodel.cn/sv1.png\" width=750 />"
   ]
  },
  {
   "cell_type": "markdown",
   "metadata": {
    "deletable": false,
    "editable": false,
    "graffitiCellId": "id_5kci29l"
   },
   "source": [
    "<img src=\"https://imgbed.momodel.cn/sv2.png\" width=750 />"
   ]
  },
  {
   "cell_type": "markdown",
   "metadata": {
    "deletable": false,
    "editable": false,
    "graffitiCellId": "id_1l0ahj0"
   },
   "source": [
    "<b> SV定价 </b>\n",
    "\n",
    "<img src=\"https://imgbed.momodel.cn/svn1.png\" width=750 />\n",
    "\n",
    "> Shapley, L S. (1953a), ‘A Value of n-Person Games’, Annals of Math Studies 28: 307-17.\n",
    "\n",
    "<b> Neuron Shapley: Discovering the Responsible Neurons </b>\n",
    "\n",
    "\n"
   ]
  },
  {
   "cell_type": "markdown",
   "metadata": {
    "deletable": false,
    "editable": false,
    "graffitiCellId": "id_ld2g44r"
   },
   "source": [
    "<img src=\"https://imgbed.momodel.cn/svn4.png\" width=750 />"
   ]
  },
  {
   "cell_type": "markdown",
   "metadata": {
    "deletable": false,
    "editable": false,
    "graffitiCellId": "id_q62uozq"
   },
   "source": [
    "> A Marketplace for Data: An Algorithmic Solution\n",
    "\n",
    "<img src=\"https://imgbed.momodel.cn/svn2.png\" width=750 />\n",
    "\n",
    "> Collaborative Machine Learning Markets with Data-Replication-Robust Payments\n",
    "\n",
    "<img src=\"https://imgbed.momodel.cn/svn3.png\" width=750 />"
   ]
  },
  {
   "cell_type": "markdown",
   "metadata": {
    "deletable": false,
    "editable": false,
    "graffitiCellId": "id_0xytonk"
   },
   "source": [
    "> Interpret Federated Learning with Shapley Values\n",
    "> Profit Allocation for Federated Learning\n",
    "\n",
    "<img src=\"https://imgbed.momodel.cn/svn5.png\" width=750 />"
   ]
  },
  {
   "cell_type": "markdown",
   "metadata": {
    "deletable": false,
    "editable": false,
    "graffitiCellId": "id_u94kows"
   },
   "source": [
    "<img src=\"https://imgbed.momodel.cn/sv3.png\" width=750 />"
   ]
  },
  {
   "cell_type": "markdown",
   "metadata": {
    "deletable": false,
    "editable": false,
    "graffitiCellId": "id_eruoyuv"
   },
   "source": [
    "<img src=\"https://imgbed.momodel.cn/sv4.png\" width=750 />"
   ]
  },
  {
   "cell_type": "markdown",
   "metadata": {
    "deletable": false,
    "editable": false,
    "graffitiCellId": "id_umwnfjf"
   },
   "source": [
    "<b>未来研究方向：</b>\n",
    "\n",
    "1. 对抗群智\n",
    "2. 元学习 - Free Energy\n",
    "3. 图联邦\n",
    "4. 聚合网络和按需推理\n",
    "5. 去中心化和隐私计算基础设施\n",
    "6. 定价和反向博弈\n",
    "7. 通讯优化和抗攻击\n",
    "8. 开源开放\n"
   ]
  },
  {
   "cell_type": "markdown",
   "metadata": {
    "deletable": false,
    "editable": false,
    "graffitiCellId": "id_q5b7cjn"
   },
   "source": [
    "<b>目的：AI民主化</b>\n",
    "\n",
    "人人都可以使用AI -> 人人都能建模 -> 人人都能从AI中获得收益"
   ]
  }
 ],
 "metadata": {
  "graffiti": {
   "firstAuthorId": "dev",
   "id": "id_zl8csx8",
   "language": "EN"
  },
  "kernelspec": {
   "display_name": "Python 3 (ipykernel)",
   "language": "python",
   "name": "python3"
  },
  "language_info": {
   "codemirror_mode": {
    "name": "ipython",
    "version": 3
   },
   "file_extension": ".py",
   "mimetype": "text/x-python",
   "name": "python",
   "nbconvert_exporter": "python",
   "pygments_lexer": "ipython3",
   "version": "3.7.5"
  }
 },
 "nbformat": 4,
 "nbformat_minor": 4
}
