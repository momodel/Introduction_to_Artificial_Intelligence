{
 "cells": [
  {
   "cell_type": "markdown",
   "metadata": {
    "deletable": false,
    "editable": false,
    "graffitiCellId": "id_j4hqglf"
   },
   "source": [
    "# 数据定价"
   ]
  },
  {
   "cell_type": "markdown",
   "metadata": {
    "deletable": false,
    "editable": false,
    "graffitiCellId": "id_xf5d520"
   },
   "source": [
    "## <span class=\"motutor-highlight motutor-id_xf5d520-id_vq406p6\"><i></i>数据链条和数据商品属性</span>\n",
    "\n",
    "<img src=\"https://imgbed.momodel.cn/data_capital.png\" width=750 />"
   ]
  },
  {
   "cell_type": "markdown",
   "metadata": {
    "deletable": false,
    "editable": false,
    "graffitiCellId": "id_thmfcn5"
   },
   "source": [
    "数据的传统商品属性：效用性 价值性 通用性\n",
    "\n",
    "\n",
    "> 2020年4月9日，中共中央、国务院发布《关于构建更加完善的要素市场化配置体制机制的意见》，首次将数据与土地、劳动力、资本、技术等传统要素并列为要素之一，提出要加快培育数据要素市场，包括推进政府数据开放共享、提升社会数据资源价值和加强数据资源整合和安全保护等三方面工作。\n",
    "\n"
   ]
  },
  {
   "cell_type": "markdown",
   "metadata": {
    "deletable": false,
    "editable": false,
    "graffitiCellId": "id_3n1x6zm"
   },
   "source": [
    "<img src=\"https://imgbed.momodel.cn/dm.jpg\" width=750 />"
   ]
  },
  {
   "cell_type": "markdown",
   "metadata": {
    "deletable": false,
    "editable": false,
    "graffitiCellId": "id_29eykr0"
   },
   "source": [
    "<img src=\"https://imgbed.momodel.cn/azure.png\" width=750 />"
   ]
  },
  {
   "cell_type": "markdown",
   "metadata": {
    "deletable": false,
    "editable": false,
    "graffitiCellId": "id_qh3xxg8"
   },
   "source": [
    "**数据的非传统商品属性：**\n",
    " - 非消耗性 和 非排他性\n",
    " - 复制低成本 或 零成本\n",
    " - 边际效益递减原则不适用 与其他数据结合的外部性\n",
    " - 价值不确定性 与模型紧密相关\n",
    " \n",
    "**数据不经济**：难以定价，难以交易\n",
    "\n",
    "**数据资产化**：如何解决这些基础问题，将数据转化为经济基础要素，形成可持续数据生态"
   ]
  }
 ],
 "metadata": {
  "graffiti": {
   "firstAuthorId": "dev",
   "id": "id_6m6w4q7",
   "language": "EN"
  },
  "kernelspec": {
   "display_name": "Python 3 (ipykernel)",
   "language": "python",
   "name": "python3"
  },
  "language_info": {
   "codemirror_mode": {
    "name": "ipython",
    "version": 3
   },
   "file_extension": ".py",
   "mimetype": "text/x-python",
   "name": "python",
   "nbconvert_exporter": "python",
   "pygments_lexer": "ipython3",
   "version": "3.7.5"
  }
 },
 "nbformat": 4,
 "nbformat_minor": 4
}
