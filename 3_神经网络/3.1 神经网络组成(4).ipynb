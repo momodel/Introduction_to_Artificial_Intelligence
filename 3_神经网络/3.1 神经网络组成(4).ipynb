{
 "cells": [
  {
   "cell_type": "markdown",
   "metadata": {
    "deletable": false,
    "editable": false,
    "graffitiCellId": "id_co6wc3o"
   },
   "source": [
    "## 神经元和激活函数\n",
    "\n"
   ]
  },
  {
   "attachments": {},
   "cell_type": "markdown",
   "metadata": {
    "deletable": false,
    "editable": false,
    "graffitiCellId": "id_3zaaj47"
   },
   "source": [
    "在输出的判断上，其实不仅可以简单的按照阈值来判断，可以通过一个函数来进行计算，这个函数称为<span class=\"motutor-highlight motutor-id_3zaaj47-id_aph5eog\"><i></i>**激活函数**</span>。\n",
    "\n",
    "常见的激活函数有： sigmoid，tanh，relu 等。\n",
    "\n"
   ]
  },
  {
   "cell_type": "markdown",
   "metadata": {
    "deletable": false,
    "editable": false,
    "graffitiCellId": "id_17rwnd9"
   },
   "source": [
    "**为什么多层感知机（即前馈神经网络）需要激活函数？**\n",
    "\n",
    "1. 在无激活函数的情况下，神经元的输出就是输入与对应参数的乘积之和，或许再加一个偏置，但是这些都是线性的。\n",
    "\n",
    "2. 不加激活函数，线性的感知机的堆叠依然是一个线性的函数。\n",
    "\n",
    "3. 实际场景中很多问题不是线性可分的。激活函数的作用，就是让神经元的输出有一定的非线性的性质。\n",
    "\n",
    "4. 连续可导性\n"
   ]
  },
  {
   "cell_type": "markdown",
   "metadata": {
    "deletable": false,
    "editable": false,
    "graffitiCellId": "id_i9vm5lu"
   },
   "source": [
    "运行下面的程序可以得到 `sigmoid` 函数的图像，该函数是一个非线性的函数，当使用该函数作为激活函数时，可以将简单的权重与输入的乘积和从一个线性的空间映射到一个非线性的空间。"
   ]
  },
  {
   "cell_type": "code",
   "execution_count": 2,
   "metadata": {
    "deletable": false,
    "editable": false,
    "graffitiCellId": "id_emdum8w"
   },
   "outputs": [],
   "source": [
    "import numpy as np\n",
    "import matplotlib.pyplot as plt\n",
    "import warnings\n",
    "warnings.filterwarnings(\"ignore\")\n",
    "\n",
    "\n",
    "def plot_activation_function(activation_function):\n",
    "    \"\"\"\n",
    "    绘制激活函数\n",
    "    :param activation_function: 激活函数名\n",
    "    :return:\n",
    "    \"\"\"\n",
    "    x = np.arange(-10, 10, 0.1)\n",
    "    y_activation_function = activation_function(x)\n",
    "\n",
    "    # 绘制坐标轴\n",
    "    ax = plt.gca()\n",
    "    ax.spines['right'].set_color('none')\n",
    "    ax.spines['top'].set_color('none')\n",
    "    ax.xaxis.set_ticks_position('bottom')\n",
    "    ax.yaxis.set_ticks_position('left')\n",
    "    ax.spines['bottom'].set_position(('data', 0))\n",
    "    ax.spines['left'].set_position(('data', 0))\n",
    "\n",
    "    # 绘制曲线图\n",
    "    plt.plot(x, y_activation_function)\n",
    "    \n",
    "    # 展示函数图像\n",
    "    plt.show()"
   ]
  },
  {
   "attachments": {},
   "cell_type": "markdown",
   "metadata": {
    "deletable": false,
    "editable": false,
    "graffitiCellId": "id_4d1m5gd"
   },
   "source": [
    "#### 1. <span class=\"motutor-highlight motutor-id_4d1m5gd-id_nqcd7bp\"><i></i>sigmoid函数</span>\n",
    "\n",
    "Sigmoid函数是一个在生物学中常见的S型函数，也称为S型生长曲线。在信息科学中，由于其单增以及反函数单增等性质，Sigmoid函数常被用作神经网络的阈值函数，将变量映射到0,1之间。\n",
    "\n",
    "$$ f(x) = \\frac{1}{1+e^{-x}}$$"
   ]
  },
  {
   "cell_type": "code",
   "execution_count": 3,
   "metadata": {
    "deletable": false,
    "editable": false,
    "graffitiCellId": "id_3976efr"
   },
   "outputs": [
    {
     "data": {
      "image/png": "[encoded data removed]",
      "text/plain": [
       "<Figure size 432x288 with 1 Axes>"
      ]
     },
     "metadata": {
      "deletable": false,
      "editable": false,
      "needs_background": "light"
     },
     "output_type": "display_data"
    }
   ],
   "source": [
    "def sigmoid(x):\n",
    "    \"\"\"\n",
    "    sigmoid函数\n",
    "    :param x: np.array 格式数据\n",
    "    :return: sigmoid 函数\n",
    "    \"\"\"\n",
    "    return 1 / (1 + np.exp(-x))\n",
    "\n",
    "\n",
    "# 绘制 sigmoid 函数图像\n",
    "plot_activation_function(sigmoid)"
   ]
  },
  {
   "cell_type": "markdown",
   "metadata": {
    "deletable": false,
    "editable": false,
    "graffitiCellId": "id_ijzdpve"
   },
   "source": [
    "优点：\n",
    "+ Sigmoid 函数的输出映射在(0,1)之间，单调连续，输出范围有限，优化稳定，可以用作输出层。它在物理意义上最为接近生物神经元。\n",
    "+ 求导容易。\n",
    "\n",
    "缺点：\n",
    "+ 由于其软饱和性，容易产生梯度消失，导致训练出现问题。\n",
    "+ 其输出并不是以0为中心的。"
   ]
  },
  {
   "attachments": {},
   "cell_type": "markdown",
   "metadata": {
    "deletable": false,
    "editable": false,
    "graffitiCellId": "id_i66fg5b"
   },
   "source": [
    "#### 2. <span class=\"motutor-highlight motutor-id_i66fg5b-id_w78s1sf\"><i></i>tanh函数</span>\n",
    "tanh是双曲函数中的一个，$Tanh()$为双曲正切。在数学中，双曲正切“Tanh”是由基本双曲函数双曲正弦和双曲余弦推导而来。\n",
    "\n",
    "公式如下:\n",
    "\n",
    "$$ f(x) = \\frac{1-e^{-2x}}{1+e^{-2x}}$$"
   ]
  },
  {
   "cell_type": "code",
   "execution_count": 4,
   "metadata": {
    "deletable": false,
    "editable": false,
    "graffitiCellId": "id_uixzxh8"
   },
   "outputs": [
    {
     "data": {
      "image/png": "[encoded data removed]",
      "text/plain": [
       "<Figure size 432x288 with 1 Axes>"
      ]
     },
     "metadata": {
      "deletable": false,
      "editable": false,
      "needs_background": "light"
     },
     "output_type": "display_data"
    }
   ],
   "source": [
    "def tanh(x):\n",
    "    \"\"\"\n",
    "    tanh函数\n",
    "    :param x: np.array 格式数据\n",
    "    :return: tanh 函数\n",
    "    \"\"\"\n",
    "    return ((np.exp(x) - np.exp(-x)) / (np.exp(x) + np.exp(-x)))\n",
    "\n",
    "\n",
    "# 绘制 tanh 函数图像\n",
    "plot_activation_function(tanh)"
   ]
  },
  {
   "cell_type": "markdown",
   "metadata": {
    "deletable": false,
    "editable": false,
    "graffitiCellId": "id_qe9bebx"
   },
   "source": [
    "优点：\n",
    "+ 比Sigmoid函数收敛速度更快。\n",
    "+ 相比Sigmoid函数，其输出以0为中心。\n",
    "\n",
    "缺点：\n",
    "+ 还是没有改变Sigmoid函数的最大问题——由于饱和性产生的梯度消失。"
   ]
  },
  {
   "attachments": {},
   "cell_type": "markdown",
   "metadata": {
    "deletable": false,
    "editable": false,
    "graffitiCellId": "id_xz1xabw"
   },
   "source": [
    "#### 3. <span class=\"motutor-highlight motutor-id_xz1xabw-id_cj3hicn\"><i></i>ReLU函数</span>\n",
    "\n",
    "Relu激活函数（The Rectified Linear Unit），用于隐层神经元输出。公式如下：\n",
    "\n",
    "$$ f(x) = max(0, x)$$"
   ]
  },
  {
   "cell_type": "code",
   "execution_count": 5,
   "metadata": {
    "deletable": false,
    "editable": false,
    "graffitiCellId": "id_wnp3od2"
   },
   "outputs": [
    {
     "data": {
      "image/png": "[encoded data removed]",
      "text/plain": [
       "<Figure size 432x288 with 1 Axes>"
      ]
     },
     "metadata": {
      "deletable": false,
      "editable": false,
      "needs_background": "light"
     },
     "output_type": "display_data"
    }
   ],
   "source": [
    "def relu(x):\n",
    "    \"\"\"\n",
    "    relu 函数\n",
    "    :param x: np.array 格式数据\n",
    "    :return: relu 函数\n",
    "    \"\"\"\n",
    "   \n",
    "    temp = np.zeros_like(x)\n",
    "    if_bigger_zero = (x > temp)\n",
    "    return x * if_bigger_zero\n",
    "\n",
    "\n",
    "# 绘制 relu 函数\n",
    "plot_activation_function(relu)"
   ]
  },
  {
   "cell_type": "markdown",
   "metadata": {
    "deletable": false,
    "editable": false,
    "graffitiCellId": "id_1kl7qdi"
   },
   "source": [
    "优点：\n",
    "+ 因为它线性、非饱和的形式，ReLU在SGD中能够快速收敛。\n",
    "+ 有效缓解了梯度消失的问题。\n",
    "+ 提供了神经网络的稀疏表达能力。\n",
    "\n",
    "缺点：\n",
    "+ 随着训练的进行，可能会出现神经元死亡，权重无法更新的情况。如果发生这种情况，那么流经神经元的梯度从这一点开始将永远是0。也就是说，ReLU神经元在训练中不可逆地死亡了。"
   ]
  }
 ],
 "metadata": {
  "graffiti": {
   "firstAuthorId": "dev",
   "id": "id_ldfarx0",
   "language": "EN"
  },
  "kernelspec": {
   "display_name": "Python 3",
   "language": "python",
   "name": "python3"
  },
  "language_info": {
   "codemirror_mode": {
    "name": "ipython",
    "version": 3
   },
   "file_extension": ".py",
   "mimetype": "text/x-python",
   "name": "python",
   "nbconvert_exporter": "python",
   "pygments_lexer": "ipython3",
   "version": "3.7.5"
  },
  "vscode": {
   "interpreter": {
    "hash": "5179d32cf6ec497baf3f8a3ef987cc77c5d2dc691fdde20a56316522f61a7323"
   }
  }
 },
 "nbformat": 4,
 "nbformat_minor": 4
}
